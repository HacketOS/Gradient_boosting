{
 "cells": [
  {
   "cell_type": "markdown",
   "metadata": {},
   "source": [
    "# Self-made gradient boosting regressor"
   ]
  },
  {
   "cell_type": "code",
   "execution_count": 1,
   "metadata": {},
   "outputs": [],
   "source": [
    "import pandas as pd\n",
    "import numpy as np\n",
    "from sklearn.tree import DecisionTreeRegressor\n",
    "import matplotlib.pyplot as plt\n",
    "from sklearn.datasets import load_boston\n",
    "from sklearn.metrics import r2_score, mean_squared_error, make_scorer\n",
    "from sklearn.ensemble import GradientBoostingRegressor\n",
    "from sklearn.model_selection import train_test_split\n",
    "from sklearn.model_selection import learning_curve\n",
    "from sklearn.model_selection import KFold\n",
    "import seaborn as sns"
   ]
  },
  {
   "cell_type": "markdown",
   "metadata": {},
   "source": [
    "Load data and split data"
   ]
  },
  {
   "cell_type": "code",
   "execution_count": 2,
   "metadata": {},
   "outputs": [
    {
     "data": {
      "text/html": [
       "<div>\n",
       "<style scoped>\n",
       "    .dataframe tbody tr th:only-of-type {\n",
       "        vertical-align: middle;\n",
       "    }\n",
       "\n",
       "    .dataframe tbody tr th {\n",
       "        vertical-align: top;\n",
       "    }\n",
       "\n",
       "    .dataframe thead th {\n",
       "        text-align: right;\n",
       "    }\n",
       "</style>\n",
       "<table border=\"1\" class=\"dataframe\">\n",
       "  <thead>\n",
       "    <tr style=\"text-align: right;\">\n",
       "      <th></th>\n",
       "      <th>0</th>\n",
       "    </tr>\n",
       "  </thead>\n",
       "  <tbody>\n",
       "    <tr>\n",
       "      <th>count</th>\n",
       "      <td>506.000000</td>\n",
       "    </tr>\n",
       "    <tr>\n",
       "      <th>mean</th>\n",
       "      <td>22.532806</td>\n",
       "    </tr>\n",
       "    <tr>\n",
       "      <th>std</th>\n",
       "      <td>9.197104</td>\n",
       "    </tr>\n",
       "    <tr>\n",
       "      <th>min</th>\n",
       "      <td>5.000000</td>\n",
       "    </tr>\n",
       "    <tr>\n",
       "      <th>25%</th>\n",
       "      <td>17.025000</td>\n",
       "    </tr>\n",
       "    <tr>\n",
       "      <th>50%</th>\n",
       "      <td>21.200000</td>\n",
       "    </tr>\n",
       "    <tr>\n",
       "      <th>75%</th>\n",
       "      <td>25.000000</td>\n",
       "    </tr>\n",
       "    <tr>\n",
       "      <th>max</th>\n",
       "      <td>50.000000</td>\n",
       "    </tr>\n",
       "  </tbody>\n",
       "</table>\n",
       "</div>"
      ],
      "text/plain": [
       "                0\n",
       "count  506.000000\n",
       "mean    22.532806\n",
       "std      9.197104\n",
       "min      5.000000\n",
       "25%     17.025000\n",
       "50%     21.200000\n",
       "75%     25.000000\n",
       "max     50.000000"
      ]
     },
     "execution_count": 2,
     "metadata": {},
     "output_type": "execute_result"
    }
   ],
   "source": [
    "X, y = load_boston(True)\n",
    "X_train,X_test, y_train,y_test = train_test_split(X,y,test_size = 0.3)\n",
    "pd.DataFrame(y).describe()"
   ]
  },
  {
   "cell_type": "code",
   "execution_count": 3,
   "metadata": {},
   "outputs": [],
   "source": [
    "class gradient_boosting_reg:\n",
    "    def __init__(self, n_estimators=100, learning_rate=0.1, max_depth=3, random_state=None, n_samples = 15,min_samples_leaf = 3):\n",
    "        self.n_estimators = n_estimators\n",
    "        self.min_samples_leaf = min_samples_leaf \n",
    "        self.max_depth = max_depth\n",
    "        self.learning_rate = learning_rate\n",
    "        self.random_state = random_state\n",
    "        self.n_samples = n_samples\n",
    "        self.initialization = lambda y: np.mean(y) * np.ones([y.shape[0]])\n",
    "        self.trees_ = []\n",
    "        self.loss_list = []\n",
    "        \n",
    "    def fit(self, X, y):\n",
    "        self.trees_ = []\n",
    "        self.loss_list = []\n",
    "        self.X = X\n",
    "        self.y = y\n",
    "        b = self.initialization(y)\n",
    "        prediction = b.copy()\n",
    "        resid = y\n",
    "        \n",
    "        for t in range(self.n_estimators):            \n",
    "            tree =DecisionTreeRegressor(max_depth=self.max_depth, min_samples_leaf = self.min_samples_leaf,random_state=self.random_state)\n",
    "            tree.fit(X, resid)\n",
    "            b = tree.predict(X).reshape([X.shape[0]])\n",
    "            self.trees_.append(tree)\n",
    "            prediction += self.learning_rate * b\n",
    "            self.loss_list.append(mean_squared_error(y,prediction))\n",
    "            resid = (y - prediction)             \n",
    "        return self\n",
    "    \n",
    "    def predict(self, X):\n",
    "        prediction = np.ones([X.shape[0]]) * np.mean(self.y)\n",
    "        for t in range(self.n_estimators):\n",
    "            prediction += self.learning_rate * self.trees_[t].predict(X).reshape([X.shape[0]])\n",
    "        return prediction"
   ]
  },
  {
   "cell_type": "code",
   "execution_count": 4,
   "metadata": {},
   "outputs": [
    {
     "name": "stdout",
     "output_type": "stream",
     "text": [
      "R2-score: 0.858111\n",
      "MSE: 11.840031\n"
     ]
    }
   ],
   "source": [
    "gdb = GradientBoostingRegressor(n_estimators=500, random_state=42)\n",
    "gdb.fit(X_train, y_train)\n",
    "print(\"R2-score: %f\" %r2_score(y_test,gdb.predict(X_test)))\n",
    "print(\"MSE: %f\" %mean_squared_error(y_test,gdb.predict(X_test)))"
   ]
  },
  {
   "cell_type": "code",
   "execution_count": 5,
   "metadata": {
    "scrolled": true
   },
   "outputs": [
    {
     "name": "stdout",
     "output_type": "stream",
     "text": [
      "R2-score: 0.812241\n",
      "MSE: 15.667648\n"
     ]
    }
   ],
   "source": [
    "gdb = gradient_boosting_reg(n_estimators=500, random_state=42)\n",
    "gdb.fit(X_train, y_train)\n",
    "print(\"R2-score: %f\" %r2_score(y_test,gdb.predict(X_test)))\n",
    "print(\"MSE: %f\" %mean_squared_error(y_test,gdb.predict(X_test)))"
   ]
  },
  {
   "cell_type": "code",
   "execution_count": 6,
   "metadata": {},
   "outputs": [
    {
     "data": {
      "image/png": "[encoded data removed]",
      "text/plain": [
       "<Figure size 1152x648 with 1 Axes>"
      ]
     },
     "metadata": {
      "needs_background": "light"
     },
     "output_type": "display_data"
    }
   ],
   "source": [
    "plt.figure(figsize = (16,9))\n",
    "sklrn_gdb = GradientBoostingRegressor(n_estimators=500)\n",
    "self_gdb = gradient_boosting_reg(n_estimators=500, random_state=42)\n",
    "\n",
    "folds = KFold(n_splits=15, shuffle=True)\n",
    "folds.get_n_splits(X)\n",
    "self_error_list = []\n",
    "sklrn_error_list = []\n",
    "for train_index, test_index in folds.split(X):\n",
    "    X_train, X_test = X[train_index], X[test_index]\n",
    "    y_train, y_test = y[train_index], y[test_index]\n",
    "    self_error_list.append(mean_squared_error(y_test, self_gdb.fit(X_train,y_train).predict(X_test)))\n",
    "    sklrn_error_list.append(mean_squared_error(y_test, sklrn_gdb.fit(X_train,y_train).predict(X_test)))\n",
    "plt.boxplot([self_error_list, sklrn_error_list],labels= (\"self-made\", \"sklearn\"))\n",
    "plt.grid()\n",
    "plt.ylabel(\"MSE\", fontsize = 15);"
   ]
  }
 ],
 "metadata": {
  "kernelspec": {
   "display_name": "Python 3",
   "language": "python",
   "name": "python3"
  },
  "language_info": {
   "codemirror_mode": {
    "name": "ipython",
    "version": 3
   },
   "file_extension": ".py",
   "mimetype": "text/x-python",
   "name": "python",
   "nbconvert_exporter": "python",
   "pygments_lexer": "ipython3",
   "version": "3.7.1"
  }
 },
 "nbformat": 4,
 "nbformat_minor": 1
}
